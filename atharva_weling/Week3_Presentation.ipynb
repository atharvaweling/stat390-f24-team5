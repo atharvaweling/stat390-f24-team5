{
  "nbformat": 4,
  "nbformat_minor": 0,
  "metadata": {
    "colab": {
      "provenance": []
    },
    "kernelspec": {
      "name": "python3",
      "display_name": "Python 3"
    },
    "language_info": {
      "name": "python"
    }
  },
  "cells": [
    {
      "cell_type": "markdown",
      "source": [
        "Code developed by Atharva Weling. Sample images came from h2114153_tissues out of the Sheffield_Samples folder, available on the README file."
      ],
      "metadata": {
        "id": "EVthee9XjLRE"
      }
    },
    {
      "cell_type": "code",
      "execution_count": null,
      "metadata": {
        "id": "dHo1otYLAFUh"
      },
      "outputs": [],
      "source": [
        "pip install opencv-python"
      ]
    },
    {
      "cell_type": "code",
      "source": [
        "import cv2\n",
        "import numpy as np\n",
        "import os"
      ],
      "metadata": {
        "id": "m-JKQUyUAokK"
      },
      "execution_count": 2,
      "outputs": []
    },
    {
      "cell_type": "code",
      "source": [
        "# Access folder of tissues and create pairs for comparison\n",
        "tissue_folder = '/content/sample_tissues'\n",
        "tissue_paths = [os.path.join(tissue_folder, fname) for fname in os.listdir(tissue_folder) if fname.endswith('.tif')]\n",
        "tissue_pairs = []\n",
        "\n",
        "for i in range(len(tissue_paths)):\n",
        "    for j in range(i + 1, len(tissue_paths)):\n",
        "        tissue_pairs.append([tissue_paths[i], tissue_paths[j]])\n",
        "\n",
        "print(tissue_pairs)"
      ],
      "metadata": {
        "colab": {
          "base_uri": "https://localhost:8080/"
        },
        "id": "XeX8d02qV0tE",
        "outputId": "19be1d5f-e245-443d-a7aa-423a027d9609"
      },
      "execution_count": 8,
      "outputs": [
        {
          "output_type": "stream",
          "name": "stdout",
          "text": [
            "[['/content/sample_tissues/h2114153_h&e.tif_3.tif', '/content/sample_tissues/h2114153_h&e.tif_4.tif'], ['/content/sample_tissues/h2114153_h&e.tif_3.tif', '/content/sample_tissues/h2114153_h&e.tif_1.tif'], ['/content/sample_tissues/h2114153_h&e.tif_3.tif', '/content/sample_tissues/h2114153_melan.tif_1.tif'], ['/content/sample_tissues/h2114153_h&e.tif_3.tif', '/content/sample_tissues/h2114153_h&e.tif_2.tif'], ['/content/sample_tissues/h2114153_h&e.tif_3.tif', '/content/sample_tissues/h2114153_melan.tif_2.tif'], ['/content/sample_tissues/h2114153_h&e.tif_4.tif', '/content/sample_tissues/h2114153_h&e.tif_1.tif'], ['/content/sample_tissues/h2114153_h&e.tif_4.tif', '/content/sample_tissues/h2114153_melan.tif_1.tif'], ['/content/sample_tissues/h2114153_h&e.tif_4.tif', '/content/sample_tissues/h2114153_h&e.tif_2.tif'], ['/content/sample_tissues/h2114153_h&e.tif_4.tif', '/content/sample_tissues/h2114153_melan.tif_2.tif'], ['/content/sample_tissues/h2114153_h&e.tif_1.tif', '/content/sample_tissues/h2114153_melan.tif_1.tif'], ['/content/sample_tissues/h2114153_h&e.tif_1.tif', '/content/sample_tissues/h2114153_h&e.tif_2.tif'], ['/content/sample_tissues/h2114153_h&e.tif_1.tif', '/content/sample_tissues/h2114153_melan.tif_2.tif'], ['/content/sample_tissues/h2114153_melan.tif_1.tif', '/content/sample_tissues/h2114153_h&e.tif_2.tif'], ['/content/sample_tissues/h2114153_melan.tif_1.tif', '/content/sample_tissues/h2114153_melan.tif_2.tif'], ['/content/sample_tissues/h2114153_h&e.tif_2.tif', '/content/sample_tissues/h2114153_melan.tif_2.tif']]\n"
          ]
        }
      ]
    },
    {
      "cell_type": "code",
      "source": [
        "def preprocess_tissue(tissue_path):\n",
        "    # Load image\n",
        "    img = cv2.imread(tissue_path)\n",
        "    # Convert to grayscale\n",
        "    gray = cv2.cvtColor(img, cv2.COLOR_BGR2GRAY)\n",
        "    # Apply GaussianBlur to reduce noise\n",
        "    blurred = cv2.GaussianBlur(gray, (5, 5), 0)\n",
        "    # Apply thresholding\n",
        "    _, thresh = cv2.threshold(blurred, 127, 255, cv2.THRESH_BINARY)\n",
        "    return thresh\n",
        "\n",
        "def get_contour(tissue):\n",
        "    # Find contours\n",
        "    contours, _ = cv2.findContours(tissue, cv2.RETR_EXTERNAL, cv2.CHAIN_APPROX_SIMPLE)\n",
        "    if contours:\n",
        "        # Return the largest contour\n",
        "        return max(contours, key=cv2.contourArea)\n",
        "    return None\n",
        "\n",
        "def match_shapes(contour1, contour2):\n",
        "    if contour1 is not None and contour2 is not None:\n",
        "        # Match shapes\n",
        "        return cv2.matchShapes(contour1, contour2, cv2.CONTOURS_MATCH_I1, 0.0)\n",
        "    return float('inf')  # If one of the contours is None\n",
        "\n",
        "def compare_tissues(tissue_pairs):\n",
        "    scores = {}\n",
        "\n",
        "    for tissue_pair in tissue_pairs:\n",
        "      contour_pair = []\n",
        "      for tissue in tissue_pair:\n",
        "        image = preprocess_tissue(tissue)\n",
        "        contour = get_contour(image)\n",
        "        contour_pair.append(contour)\n",
        "      score = match_shapes(contour_pair[0], contour_pair[1])\n",
        "      scores[' & '.join([path.split('/')[-1] for path in tissue_pair])] = score\n",
        "\n",
        "    # Sort by score (remember; lower score means more similar)\n",
        "    sorted_scores = sorted(scores.items(), key=lambda item: item[1])\n",
        "    return sorted_scores\n",
        "\n",
        "sorted_tissues = compare_tissues(tissue_pairs)\n",
        "\n",
        "# Print optimal sorted results\n",
        "for tissue_pair, score in sorted_tissues:\n",
        "  if score < 0.2: # arbitrary threshold for similarity for now\n",
        "    print(f\"{tissue_pair}: {score}\")"
      ],
      "metadata": {
        "id": "6P0_PewbBvAu",
        "colab": {
          "base_uri": "https://localhost:8080/"
        },
        "outputId": "2fd3c4a2-1340-423d-db62-f15db47b3af4"
      },
      "execution_count": 13,
      "outputs": [
        {
          "output_type": "stream",
          "name": "stdout",
          "text": [
            "h2114153_h&e.tif_3.tif & h2114153_melan.tif_1.tif: 0.012034721791042924\n",
            "h2114153_h&e.tif_4.tif & h2114153_melan.tif_2.tif: 0.026204239509839966\n",
            "h2114153_h&e.tif_3.tif & h2114153_h&e.tif_2.tif: 0.11638169514902086\n",
            "h2114153_melan.tif_1.tif & h2114153_h&e.tif_2.tif: 0.12841641694006378\n",
            "h2114153_h&e.tif_1.tif & h2114153_h&e.tif_2.tif: 0.18670999440210478\n"
          ]
        }
      ]
    }
  ]
}