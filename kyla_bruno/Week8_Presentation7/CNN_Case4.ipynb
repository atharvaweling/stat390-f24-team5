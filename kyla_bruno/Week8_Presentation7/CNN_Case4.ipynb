{
  "nbformat": 4,
  "nbformat_minor": 0,
  "metadata": {
    "colab": {
      "provenance": [],
      "collapsed_sections": [
        "Sr2RIBFViIoN"
      ],
      "gpuType": "T4"
    },
    "kernelspec": {
      "name": "python3",
      "display_name": "Python 3"
    },
    "language_info": {
      "name": "python"
    },
    "accelerator": "GPU",
    "widgets": {
      "application/vnd.jupyter.widget-state+json": {
        "c82f216b02a746c6a377c3fbfbd7eac1": {
          "model_module": "@jupyter-widgets/controls",
          "model_name": "HBoxModel",
          "model_module_version": "1.5.0",
          "state": {
            "_dom_classes": [],
            "_model_module": "@jupyter-widgets/controls",
            "_model_module_version": "1.5.0",
            "_model_name": "HBoxModel",
            "_view_count": null,
            "_view_module": "@jupyter-widgets/controls",
            "_view_module_version": "1.5.0",
            "_view_name": "HBoxView",
            "box_style": "",
            "children": [
              "IPY_MODEL_1c15c2e115ab40e8b7bbd1cc8d665224",
              "IPY_MODEL_0aaa416df2ec473e9060a62e49252255",
              "IPY_MODEL_fb418ac84db44f0094cd3441a9e59ffa"
            ],
            "layout": "IPY_MODEL_87db846923e04f4f8d9480632082ad8c"
          }
        },
        "1c15c2e115ab40e8b7bbd1cc8d665224": {
          "model_module": "@jupyter-widgets/controls",
          "model_name": "HTMLModel",
          "model_module_version": "1.5.0",
          "state": {
            "_dom_classes": [],
            "_model_module": "@jupyter-widgets/controls",
            "_model_module_version": "1.5.0",
            "_model_name": "HTMLModel",
            "_view_count": null,
            "_view_module": "@jupyter-widgets/controls",
            "_view_module_version": "1.5.0",
            "_view_name": "HTMLView",
            "description": "",
            "description_tooltip": null,
            "layout": "IPY_MODEL_6307ebc171f14eaf82201ac2e70c12a4",
            "placeholder": "​",
            "style": "IPY_MODEL_ac8804575bcd4cbb9778ba25aac48e08",
            "value": "Epoch 49: 100%"
          }
        },
        "0aaa416df2ec473e9060a62e49252255": {
          "model_module": "@jupyter-widgets/controls",
          "model_name": "FloatProgressModel",
          "model_module_version": "1.5.0",
          "state": {
            "_dom_classes": [],
            "_model_module": "@jupyter-widgets/controls",
            "_model_module_version": "1.5.0",
            "_model_name": "FloatProgressModel",
            "_view_count": null,
            "_view_module": "@jupyter-widgets/controls",
            "_view_module_version": "1.5.0",
            "_view_name": "ProgressView",
            "bar_style": "success",
            "description": "",
            "description_tooltip": null,
            "layout": "IPY_MODEL_4d696f11dc994bc18624a2e5ee3edca7",
            "max": 2,
            "min": 0,
            "orientation": "horizontal",
            "style": "IPY_MODEL_4039a29353254fffaa0b2e1f24818edb",
            "value": 2
          }
        },
        "fb418ac84db44f0094cd3441a9e59ffa": {
          "model_module": "@jupyter-widgets/controls",
          "model_name": "HTMLModel",
          "model_module_version": "1.5.0",
          "state": {
            "_dom_classes": [],
            "_model_module": "@jupyter-widgets/controls",
            "_model_module_version": "1.5.0",
            "_model_name": "HTMLModel",
            "_view_count": null,
            "_view_module": "@jupyter-widgets/controls",
            "_view_module_version": "1.5.0",
            "_view_name": "HTMLView",
            "description": "",
            "description_tooltip": null,
            "layout": "IPY_MODEL_6abf7cee23904824b9c7593e42cff95b",
            "placeholder": "​",
            "style": "IPY_MODEL_2cbb27e80634420f8f955736e4475ab0",
            "value": " 2/2 [00:00&lt;00:00, 15.52it/s, v_num=12]"
          }
        },
        "87db846923e04f4f8d9480632082ad8c": {
          "model_module": "@jupyter-widgets/base",
          "model_name": "LayoutModel",
          "model_module_version": "1.2.0",
          "state": {
            "_model_module": "@jupyter-widgets/base",
            "_model_module_version": "1.2.0",
            "_model_name": "LayoutModel",
            "_view_count": null,
            "_view_module": "@jupyter-widgets/base",
            "_view_module_version": "1.2.0",
            "_view_name": "LayoutView",
            "align_content": null,
            "align_items": null,
            "align_self": null,
            "border": null,
            "bottom": null,
            "display": "inline-flex",
            "flex": null,
            "flex_flow": "row wrap",
            "grid_area": null,
            "grid_auto_columns": null,
            "grid_auto_flow": null,
            "grid_auto_rows": null,
            "grid_column": null,
            "grid_gap": null,
            "grid_row": null,
            "grid_template_areas": null,
            "grid_template_columns": null,
            "grid_template_rows": null,
            "height": null,
            "justify_content": null,
            "justify_items": null,
            "left": null,
            "margin": null,
            "max_height": null,
            "max_width": null,
            "min_height": null,
            "min_width": null,
            "object_fit": null,
            "object_position": null,
            "order": null,
            "overflow": null,
            "overflow_x": null,
            "overflow_y": null,
            "padding": null,
            "right": null,
            "top": null,
            "visibility": null,
            "width": "100%"
          }
        },
        "6307ebc171f14eaf82201ac2e70c12a4": {
          "model_module": "@jupyter-widgets/base",
          "model_name": "LayoutModel",
          "model_module_version": "1.2.0",
          "state": {
            "_model_module": "@jupyter-widgets/base",
            "_model_module_version": "1.2.0",
            "_model_name": "LayoutModel",
            "_view_count": null,
            "_view_module": "@jupyter-widgets/base",
            "_view_module_version": "1.2.0",
            "_view_name": "LayoutView",
            "align_content": null,
            "align_items": null,
            "align_self": null,
            "border": null,
            "bottom": null,
            "display": null,
            "flex": null,
            "flex_flow": null,
            "grid_area": null,
            "grid_auto_columns": null,
            "grid_auto_flow": null,
            "grid_auto_rows": null,
            "grid_column": null,
            "grid_gap": null,
            "grid_row": null,
            "grid_template_areas": null,
            "grid_template_columns": null,
            "grid_template_rows": null,
            "height": null,
            "justify_content": null,
            "justify_items": null,
            "left": null,
            "margin": null,
            "max_height": null,
            "max_width": null,
            "min_height": null,
            "min_width": null,
            "object_fit": null,
            "object_position": null,
            "order": null,
            "overflow": null,
            "overflow_x": null,
            "overflow_y": null,
            "padding": null,
            "right": null,
            "top": null,
            "visibility": null,
            "width": null
          }
        },
        "ac8804575bcd4cbb9778ba25aac48e08": {
          "model_module": "@jupyter-widgets/controls",
          "model_name": "DescriptionStyleModel",
          "model_module_version": "1.5.0",
          "state": {
            "_model_module": "@jupyter-widgets/controls",
            "_model_module_version": "1.5.0",
            "_model_name": "DescriptionStyleModel",
            "_view_count": null,
            "_view_module": "@jupyter-widgets/base",
            "_view_module_version": "1.2.0",
            "_view_name": "StyleView",
            "description_width": ""
          }
        },
        "4d696f11dc994bc18624a2e5ee3edca7": {
          "model_module": "@jupyter-widgets/base",
          "model_name": "LayoutModel",
          "model_module_version": "1.2.0",
          "state": {
            "_model_module": "@jupyter-widgets/base",
            "_model_module_version": "1.2.0",
            "_model_name": "LayoutModel",
            "_view_count": null,
            "_view_module": "@jupyter-widgets/base",
            "_view_module_version": "1.2.0",
            "_view_name": "LayoutView",
            "align_content": null,
            "align_items": null,
            "align_self": null,
            "border": null,
            "bottom": null,
            "display": null,
            "flex": "2",
            "flex_flow": null,
            "grid_area": null,
            "grid_auto_columns": null,
            "grid_auto_flow": null,
            "grid_auto_rows": null,
            "grid_column": null,
            "grid_gap": null,
            "grid_row": null,
            "grid_template_areas": null,
            "grid_template_columns": null,
            "grid_template_rows": null,
            "height": null,
            "justify_content": null,
            "justify_items": null,
            "left": null,
            "margin": null,
            "max_height": null,
            "max_width": null,
            "min_height": null,
            "min_width": null,
            "object_fit": null,
            "object_position": null,
            "order": null,
            "overflow": null,
            "overflow_x": null,
            "overflow_y": null,
            "padding": null,
            "right": null,
            "top": null,
            "visibility": null,
            "width": null
          }
        },
        "4039a29353254fffaa0b2e1f24818edb": {
          "model_module": "@jupyter-widgets/controls",
          "model_name": "ProgressStyleModel",
          "model_module_version": "1.5.0",
          "state": {
            "_model_module": "@jupyter-widgets/controls",
            "_model_module_version": "1.5.0",
            "_model_name": "ProgressStyleModel",
            "_view_count": null,
            "_view_module": "@jupyter-widgets/base",
            "_view_module_version": "1.2.0",
            "_view_name": "StyleView",
            "bar_color": null,
            "description_width": ""
          }
        },
        "6abf7cee23904824b9c7593e42cff95b": {
          "model_module": "@jupyter-widgets/base",
          "model_name": "LayoutModel",
          "model_module_version": "1.2.0",
          "state": {
            "_model_module": "@jupyter-widgets/base",
            "_model_module_version": "1.2.0",
            "_model_name": "LayoutModel",
            "_view_count": null,
            "_view_module": "@jupyter-widgets/base",
            "_view_module_version": "1.2.0",
            "_view_name": "LayoutView",
            "align_content": null,
            "align_items": null,
            "align_self": null,
            "border": null,
            "bottom": null,
            "display": null,
            "flex": null,
            "flex_flow": null,
            "grid_area": null,
            "grid_auto_columns": null,
            "grid_auto_flow": null,
            "grid_auto_rows": null,
            "grid_column": null,
            "grid_gap": null,
            "grid_row": null,
            "grid_template_areas": null,
            "grid_template_columns": null,
            "grid_template_rows": null,
            "height": null,
            "justify_content": null,
            "justify_items": null,
            "left": null,
            "margin": null,
            "max_height": null,
            "max_width": null,
            "min_height": null,
            "min_width": null,
            "object_fit": null,
            "object_position": null,
            "order": null,
            "overflow": null,
            "overflow_x": null,
            "overflow_y": null,
            "padding": null,
            "right": null,
            "top": null,
            "visibility": null,
            "width": null
          }
        },
        "2cbb27e80634420f8f955736e4475ab0": {
          "model_module": "@jupyter-widgets/controls",
          "model_name": "DescriptionStyleModel",
          "model_module_version": "1.5.0",
          "state": {
            "_model_module": "@jupyter-widgets/controls",
            "_model_module_version": "1.5.0",
            "_model_name": "DescriptionStyleModel",
            "_view_count": null,
            "_view_module": "@jupyter-widgets/base",
            "_view_module_version": "1.2.0",
            "_view_name": "StyleView",
            "description_width": ""
          }
        }
      }
    }
  },
  "cells": [
    {
      "cell_type": "markdown",
      "source": [
        "# Week 8 Presentation 7: CNN Case 4 Example\n",
        "Note: this is the version of my Week 8 work with many of the comments removed for readability. I wanted to keep the script clean and clear. The alternative version of the notebook contains comments explaining parameter selection, function selection, and other definitions/explanations/checks.\n",
        "\n",
        "Also, the following was run using Python 3 in Google Colab with GPU.\n"
      ],
      "metadata": {
        "id": "pwipZRlFcIDA"
      }
    },
    {
      "cell_type": "markdown",
      "source": [
        "# Load Necessary Libraries"
      ],
      "metadata": {
        "id": "50fHJFObb6P5"
      }
    },
    {
      "cell_type": "code",
      "execution_count": 1,
      "metadata": {
        "id": "Zv8vdsMfEj6U"
      },
      "outputs": [],
      "source": [
        "# quiet output\n",
        "%%capture\n",
        "\n",
        "# install missing libraries\n",
        "!pip install torch torchvision\n",
        "!pip install lightning\n",
        "\n",
        "# LOAD LIBRARIES\n",
        "\n",
        "# to create tensors to store all numerical values (eg. raw data, weight, bias)\n",
        "import torch\n",
        "\n",
        "# to make the weight and bias tensors part of the neural network\n",
        "import torch.nn as nn\n",
        "\n",
        "# for the activation functions; to help move data forward\n",
        "import torch.nn.functional as F\n",
        "\n",
        "# Stochastic Gradient Descent to fit neural net to the data\n",
        "#from torch.optim import SGD\n",
        "\n",
        "# better for working with large datasets\n",
        "from torch.utils.data import DataLoader, TensorDataset, Dataset\n",
        "\n",
        "# to make training easier to code\n",
        "import lightning as L\n",
        "from lightning.pytorch import Trainer\n",
        "\n",
        "# for graphing output\n",
        "import matplotlib.pyplot as plt\n",
        "import seaborn as sns\n",
        "\n",
        "from sklearn.metrics import confusion_matrix, ConfusionMatrixDisplay"
      ]
    },
    {
      "cell_type": "markdown",
      "source": [
        "# Data PreProcessing"
      ],
      "metadata": {
        "id": "8ELghY-JRyzV"
      }
    },
    {
      "cell_type": "code",
      "source": [
        "# Recreate Example Images as 4D Tensors\n",
        "# Expected 4D shape: (1 batch, 1 channel, 6x6 image)\n",
        "\n",
        "# Case 1\n",
        "O_image = torch.tensor([[0, 0, 1, 1, 0, 0],\n",
        "                        [0, 1, 0, 0, 1, 0],\n",
        "                        [1, 0, 0, 0, 0, 1],\n",
        "                        [1, 0, 0, 0, 0, 1],\n",
        "                        [0, 1, 0, 0, 1, 0],\n",
        "                        [0, 0, 1, 1, 0, 0]],\n",
        "                       dtype=torch.float32).unsqueeze(0)\n",
        "\n",
        "X_image = torch.tensor([[1, 0, 0, 0, 0, 1],\n",
        "                        [0, 1, 0, 0, 1, 0],\n",
        "                        [0, 0, 1, 1, 0, 0],\n",
        "                        [0, 0, 1, 1, 0, 0],\n",
        "                        [0, 1, 0, 0, 1, 0],\n",
        "                        [1, 0, 0, 0, 0, 1]],\n",
        "                       dtype=torch.float32).unsqueeze(0)\n",
        "\n",
        "# Case 2\n",
        "O_image_shifted = torch.tensor([[0, 1, 1, 0, 0, 0],\n",
        "                                [1, 0, 0, 1, 0, 0],\n",
        "                                [0, 0, 0, 0, 1, 0],\n",
        "                                [0, 0, 0, 0, 1, 0],\n",
        "                                [1, 0, 0, 1, 0, 0],\n",
        "                                [0, 1, 1, 0, 0, 0]],\n",
        "                               dtype=torch.float32).unsqueeze(0)\n",
        "\n",
        "X_image_shifted = torch.tensor([[0, 1, 0, 0, 0, 0],\n",
        "                                [0, 0, 1, 0, 0, 1],\n",
        "                                [0, 0, 0, 1, 1, 0],\n",
        "                                [0, 0, 0, 1, 1, 0],\n",
        "                                [0, 0, 1, 0, 0, 1],\n",
        "                                [0, 1, 0, 0, 0, 0]],\n",
        "                               dtype=torch.float32).unsqueeze(0)\n",
        "\n",
        ""
      ],
      "metadata": {
        "id": "UQnN9RyZUIbF"
      },
      "execution_count": 2,
      "outputs": []
    },
    {
      "cell_type": "code",
      "source": [
        "# Create an Images Tensor by Stacking\n",
        "# expected shape: (4, 1, 6, 6)\n",
        "images = torch.stack([O_image, X_image, O_image_shifted, X_image_shifted], dim=0)\n",
        "\n",
        "# Create Ground Truth Labels\n",
        "# 1 = X\n",
        "# 0 = O\n",
        "# expected shape: (4,)\n",
        "labels = torch.tensor([0, 1, 0, 1], dtype=torch.long)"
      ],
      "metadata": {
        "id": "eieHf1SRU2MZ"
      },
      "execution_count": 3,
      "outputs": []
    },
    {
      "cell_type": "code",
      "source": [
        "# Use Case 1 and Case 2 Examples as Training Data\n",
        "\n",
        "train_dataset = TensorDataset(images, labels)\n",
        "\n",
        "train_dataloader = DataLoader(train_dataset, batch_size = 2, shuffle=True)\n",
        "\n",
        "# Check DataLoader\n",
        "# Expected Images Shape: (batch_size, 1, 6, 6)\n",
        "# Expected Labels Shape: (batch_size,)\n",
        "for batch_images, batch_labels in train_dataloader:\n",
        "    print(\"Batch Images Shape:\", batch_images.shape)\n",
        "    print(\"Batch Labels Shape:\", batch_labels.shape)\n",
        "    break\n",
        ""
      ],
      "metadata": {
        "colab": {
          "base_uri": "https://localhost:8080/"
        },
        "id": "h4lgQWiqRilc",
        "outputId": "a1fedcd7-4e90-452a-93c7-e138779967cc"
      },
      "execution_count": 4,
      "outputs": [
        {
          "output_type": "stream",
          "name": "stdout",
          "text": [
            "Batch Images Shape: torch.Size([2, 1, 6, 6])\n",
            "Batch Labels Shape: torch.Size([2])\n"
          ]
        }
      ]
    },
    {
      "cell_type": "markdown",
      "source": [
        "# Define Model With Adaptive Pooling"
      ],
      "metadata": {
        "id": "k6e5XbZRkgOc"
      }
    },
    {
      "cell_type": "code",
      "source": [
        "# Adaptive pooling to resize images to a fixed size\n",
        "class AdaptivePoolingModel(L.LightningModule):\n",
        "\n",
        "    def __init__(self):\n",
        "        super().__init__()\n",
        "\n",
        "        # Store losses during training\n",
        "        self.training_losses = []\n",
        "\n",
        "\n",
        "        # Convolutional layers\n",
        "        self.conv1 = nn.Conv2d(in_channels = 1, out_channels=4,\n",
        "                               kernel_size=3, stride=1, padding=1)\n",
        "        self.conv2 = nn.Conv2d(in_channels = 4, out_channels = 8,\n",
        "                               kernel_size=3, stride=1, padding=1)\n",
        "\n",
        "\n",
        "        # Adaptive Pooling layer\n",
        "        # 4x4 standard size\n",
        "        self.adaptive_pool = nn.AdaptiveAvgPool2d(output_size=(4, 4))\n",
        "\n",
        "\n",
        "        # Fully Connected Layers\n",
        "        # input features --> 64 units in hidden layer\n",
        "        self.input_to_hidden = nn.Linear(8 * 4 * 4, 64)\n",
        "\n",
        "        # unit from hidden layer --> 2 unit output layer\n",
        "        self.hidden_to_output = nn.Linear(64, 2)\n",
        "\n",
        "\n",
        "        # Initialize predefined 4D filter for conv1\n",
        "        predefined_kernel = torch.tensor(\n",
        "        [[[\n",
        "          [0, 0, 1],\n",
        "          [0, 1, 0],\n",
        "          [1, 0, 0]\n",
        "          ]]], dtype=torch.float32\n",
        "        )\n",
        "\n",
        "        # Assign the predefined kernel to the first filter in conv1\n",
        "        with torch.no_grad():\n",
        "          self.conv1.weight[0] = predefined_kernel\n",
        "\n",
        "\n",
        "\n",
        "    def forward(self, x):\n",
        "      # ReLU function will introduce nonlinearity\n",
        "\n",
        "      # Extract Edges (4 lower level features)\n",
        "      x = self.conv1(x)\n",
        "      x = torch.relu(x)\n",
        "\n",
        "      # Extract 8 higher level features\n",
        "      x = self.conv2(x)\n",
        "      x = torch.relu(x)\n",
        "\n",
        "      # Reduce feature maps regardless of input size to 4x4\n",
        "      x = self.adaptive_pool(x)\n",
        "\n",
        "      # Flatten to 1D vector (batch_size, 128)\n",
        "      x = torch.flatten(x, start_dim=1)\n",
        "\n",
        "\n",
        "      # Pass from input to hidden layer\n",
        "      # 128 features --> 64 hidden units\n",
        "      x = self.input_to_hidden(x)\n",
        "      x = torch.relu(x)\n",
        "\n",
        "      # Pass from hidden to output layer\n",
        "      # 64 hidden units --> 2 output logits (\"O\" and \"X\")\n",
        "      x = self.hidden_to_output(x)\n",
        "\n",
        "\n",
        "      # Output vector of size (batch_size, 2) containing raw logits\n",
        "      return x\n",
        "\n",
        "\n",
        "\n",
        "    def training_step(self, batch, batch_idx):\n",
        "        images, labels = batch\n",
        "        # generate predictions\n",
        "        predictions = self(images)\n",
        "\n",
        "        # alternative choice: BCE Loss\n",
        "        loss = nn.CrossEntropyLoss()(predictions, labels)\n",
        "        self.log('train_loss', loss)\n",
        "\n",
        "        # store losses to graph later\n",
        "        self.training_losses.append(loss.item())\n",
        "\n",
        "        return loss\n",
        "\n",
        "\n",
        "    def configure_optimizers(self):\n",
        "        # can adjust the learning rate here\n",
        "        return torch.optim.Adam(self.parameters(), lr=.001)\n",
        "\n"
      ],
      "metadata": {
        "id": "_rQsXfl5eHA_"
      },
      "execution_count": 5,
      "outputs": []
    },
    {
      "cell_type": "markdown",
      "source": [
        "# Train Model"
      ],
      "metadata": {
        "id": "_F4xt2_VXARs"
      }
    },
    {
      "cell_type": "code",
      "source": [
        "# Set seed for reproducability\n",
        "torch.manual_seed(42)\n",
        "\n",
        "# Initialize model instance\n",
        "model = AdaptivePoolingModel()\n",
        "\n",
        "# Train the model using DataLoader\n",
        "# played around with these params\n",
        "trainer = Trainer(max_epochs=50, log_every_n_steps=5)\n",
        "trainer.fit(model, train_dataloader)\n",
        "\n",
        "# Plot the loss trend\n",
        "plt.plot(range(len(model.training_losses)),\n",
        "         model.training_losses, label=\"Loss\")\n",
        "plt.xlabel(\"Batch\")\n",
        "plt.ylabel(\"Loss\")\n",
        "plt.title(\"Training Loss\")\n",
        "plt.legend()\n",
        "plt.show()\n"
      ],
      "metadata": {
        "colab": {
          "base_uri": "https://localhost:8080/",
          "height": 889,
          "referenced_widgets": [
            "c82f216b02a746c6a377c3fbfbd7eac1",
            "1c15c2e115ab40e8b7bbd1cc8d665224",
            "0aaa416df2ec473e9060a62e49252255",
            "fb418ac84db44f0094cd3441a9e59ffa",
            "87db846923e04f4f8d9480632082ad8c",
            "6307ebc171f14eaf82201ac2e70c12a4",
            "ac8804575bcd4cbb9778ba25aac48e08",
            "4d696f11dc994bc18624a2e5ee3edca7",
            "4039a29353254fffaa0b2e1f24818edb",
            "6abf7cee23904824b9c7593e42cff95b",
            "2cbb27e80634420f8f955736e4475ab0"
          ]
        },
        "id": "oeo9mxzj3Suk",
        "outputId": "3e362581-2af5-4689-956d-dc4a50440a26"
      },
      "execution_count": 6,
      "outputs": [
        {
          "output_type": "stream",
          "name": "stderr",
          "text": [
            "INFO:lightning.pytorch.utilities.rank_zero:GPU available: True (cuda), used: True\n",
            "INFO:lightning.pytorch.utilities.rank_zero:TPU available: False, using: 0 TPU cores\n",
            "INFO:lightning.pytorch.utilities.rank_zero:HPU available: False, using: 0 HPUs\n",
            "INFO:lightning.pytorch.accelerators.cuda:LOCAL_RANK: 0 - CUDA_VISIBLE_DEVICES: [0]\n",
            "INFO:lightning.pytorch.callbacks.model_summary:\n",
            "  | Name             | Type              | Params | Mode \n",
            "---------------------------------------------------------------\n",
            "0 | conv1            | Conv2d            | 40     | train\n",
            "1 | conv2            | Conv2d            | 296    | train\n",
            "2 | adaptive_pool    | AdaptiveAvgPool2d | 0      | train\n",
            "3 | input_to_hidden  | Linear            | 8.3 K  | train\n",
            "4 | hidden_to_output | Linear            | 130    | train\n",
            "---------------------------------------------------------------\n",
            "8.7 K     Trainable params\n",
            "0         Non-trainable params\n",
            "8.7 K     Total params\n",
            "0.035     Total estimated model params size (MB)\n",
            "5         Modules in train mode\n",
            "0         Modules in eval mode\n",
            "/usr/local/lib/python3.10/dist-packages/lightning/pytorch/loops/fit_loop.py:298: The number of training batches (2) is smaller than the logging interval Trainer(log_every_n_steps=5). Set a lower value for log_every_n_steps if you want to see logs for the training epoch.\n"
          ]
        },
        {
          "output_type": "display_data",
          "data": {
            "text/plain": [
              "Training: |          | 0/? [00:00<?, ?it/s]"
            ],
            "application/vnd.jupyter.widget-view+json": {
              "version_major": 2,
              "version_minor": 0,
              "model_id": "c82f216b02a746c6a377c3fbfbd7eac1"
            }
          },
          "metadata": {}
        },
        {
          "output_type": "stream",
          "name": "stderr",
          "text": [
            "INFO:lightning.pytorch.utilities.rank_zero:`Trainer.fit` stopped: `max_epochs=50` reached.\n"
          ]
        },
        {
          "output_type": "display_data",
          "data": {
            "text/plain": [
              "<Figure size 640x480 with 1 Axes>"
            ],
            "image/png": "[encoded data removed]"
          },
          "metadata": {}
        }
      ]
    },
    {
      "cell_type": "markdown",
      "source": [
        "# Evaluate Model Performance"
      ],
      "metadata": {
        "id": "wYL1ZlrPS1GM"
      }
    },
    {
      "cell_type": "code",
      "source": [
        "# Not using a binary thresholder here bc in theory, an image could contain\n",
        "# both X and Y (the larger images in Case 4 that is)\n",
        "def evaluate_model(model, dataloader):\n",
        "    model.eval()\n",
        "    correct = 0\n",
        "    total = 0\n",
        "\n",
        "    # no gradients here\n",
        "    with torch.no_grad():\n",
        "        for images, labels in dataloader:\n",
        "            # Predictions are based on class scores rather than a fixed threshold.\n",
        "            outputs = model(images)\n",
        "            _, predicted = torch.max(outputs, 1)\n",
        "            total += labels.size(0)\n",
        "            correct += (predicted == labels).sum().item()\n",
        "    # manually calculate accuracy for now\n",
        "    print(f\"Accuracy: {100 * correct / total:.2f}%\")\n",
        "\n",
        "# another helper function for evaluation\n",
        "def evaluate_confusion_matrix(model, dataloader):\n",
        "    all_labels = []\n",
        "    all_predictions = []\n",
        "\n",
        "    model.eval()\n",
        "    with torch.no_grad():\n",
        "        for images, labels in dataloader:\n",
        "            outputs = model(images)\n",
        "            _, predicted = torch.max(outputs, 1)\n",
        "            all_labels.extend(labels.tolist())\n",
        "            all_predictions.extend(predicted.tolist())\n",
        "\n",
        "    # Generate confusion matrix\n",
        "    cm = confusion_matrix(all_labels, all_predictions)\n",
        "    disp = ConfusionMatrixDisplay(confusion_matrix=cm, display_labels=[\"O\", \"X\"])\n",
        "    disp.plot(cmap=\"Blues\")\n",
        "    plt.show()\n",
        "\n",
        "\n",
        "# Evaluate on the training data\n",
        "evaluate_model(model, train_dataloader)\n",
        "evaluate_confusion_matrix(model, train_dataloader)\n"
      ],
      "metadata": {
        "colab": {
          "base_uri": "https://localhost:8080/",
          "height": 472
        },
        "id": "FGxGZzoSS3Y6",
        "outputId": "8b49c1a0-7c79-4ac6-c686-b9cd61398c27"
      },
      "execution_count": 7,
      "outputs": [
        {
          "output_type": "stream",
          "name": "stdout",
          "text": [
            "Accuracy: 100.00%\n"
          ]
        },
        {
          "output_type": "display_data",
          "data": {
            "text/plain": [
              "<Figure size 640x480 with 2 Axes>"
            ],
            "image/png": "[encoded data removed]"
          },
          "metadata": {}
        }
      ]
    },
    {
      "cell_type": "markdown",
      "source": [
        "# Testing Model Performance on Case 4 Data"
      ],
      "metadata": {
        "id": "71y89lNniJGI"
      }
    },
    {
      "cell_type": "markdown",
      "source": [
        "#### Data PreProcessing"
      ],
      "metadata": {
        "id": "aFBKZz7RZQO8"
      }
    },
    {
      "cell_type": "code",
      "source": [
        "# Case 4\n",
        "pattern_12x12 = torch.tensor([\n",
        "    [0, 0, 0, 0, 0, 0, 0, 0, 1, 1, 0, 0],\n",
        "    [0, 0, 0, 0, 0, 0, 0, 1, 0, 0, 1, 0],\n",
        "    [0, 0, 0, 0, 0, 0, 1, 0, 0, 0, 0, 1],\n",
        "    [0, 0, 0, 0, 0, 0, 1, 0, 0, 0, 0, 1],\n",
        "    [0, 0, 0, 0, 0, 0, 0, 1, 0, 0, 1, 0],\n",
        "    [0, 0, 0, 0, 0, 0, 0, 0, 1, 1, 0, 0],\n",
        "    [0, 0, 1, 1, 0, 0, 0, 0, 0, 0, 0, 0],\n",
        "    [0, 1, 0, 0, 1, 0, 0, 0, 0, 0, 0, 0],\n",
        "    [1, 0, 0, 0, 0, 1, 0, 0, 0, 0, 0, 0],\n",
        "    [1, 0, 0, 0, 0, 1, 0, 0, 0, 0, 0, 0],\n",
        "    [0, 1, 0, 0, 1, 0, 0, 0, 0, 0, 0, 0],\n",
        "    [0, 0, 1, 1, 0, 0, 0, 0, 0, 0, 0, 0]],\n",
        "                             dtype=torch.float32).unsqueeze(0)\n",
        "\n",
        "pattern_18x18 = torch.tensor([\n",
        "    [0,0,0,0,0,0,0,0,0,0,1,1,0,0,0,0,0,0],\n",
        "    [0,0,0,1,1,0,0,0,0,1,0,0,1,0,0,0,0,0],\n",
        "    [0,0,1,0,0,1,0,0,1,0,0,0,0,1,0,0,0,0],\n",
        "    [0,1,0,0,0,0,1,0,1,0,0,0,0,1,0,0,0,0],\n",
        "    [0,1,0,0,0,0,1,0,0,1,0,0,1,0,0,0,0,0],\n",
        "    [0,0,1,0,0,1,0,0,0,0,1,1,0,0,0,0,0,0],\n",
        "    [0,0,0,1,1,0,0,0,0,0,0,0,0,0,0,0,0,0],\n",
        "    [0,0,0,0,0,0,0,0,0,0,0,0,0,0,0,0,0,0],\n",
        "    [0,0,1,1,0,0,0,0,0,0,0,0,0,0,0,0,0,0],\n",
        "    [0,1,0,0,1,0,0,0,0,0,0,0,0,0,0,0,0,0],\n",
        "    [1,0,0,0,0,1,0,0,0,0,0,0,0,0,0,0,0,0],\n",
        "    [1,0,0,0,0,1,0,0,0,0,0,1,1,0,0,0,0,0],\n",
        "    [0,1,0,0,1,0,0,0,0,0,1,0,0,1,0,0,0,0],\n",
        "    [0,0,1,1,0,0,0,0,0,1,0,0,0,0,1,0,0,0],\n",
        "    [0,0,0,0,0,0,0,0,0,1,0,0,0,0,1,0,0,0],\n",
        "    [0,0,0,0,0,0,0,0,0,0,1,0,0,1,0,0,0,0],\n",
        "    [0,0,0,0,0,1,1,0,0,0,0,1,1,0,0,0,0,0],\n",
        "    [0,0,0,0,1,0,0,1,0,0,0,0,0,0,0,0,0,0]],\n",
        "                             dtype=torch.float32).unsqueeze(0)\n",
        "\n",
        "pattern_24x24 = torch.tensor([\n",
        "    [0,0,0,0,0,0,0,0,0,0,1,1,0,0,0,0,0,0,1,0,0,0,0,1],\n",
        "    [0,0,0,1,1,0,0,0,0,1,0,0,1,0,0,0,0,0,0,1,0,0,1,0],\n",
        "    [0,0,1,0,0,1,0,0,1,0,0,0,0,1,0,0,0,0,0,0,1,1,0,0],\n",
        "    [0,1,0,0,0,0,1,0,1,0,0,0,0,1,0,0,0,0,0,0,0,0,0,0],\n",
        "    [0,1,0,0,0,0,1,0,0,1,0,0,1,0,0,0,0,0,0,0,0,0,0,0],\n",
        "    [0,0,1,0,0,1,0,0,0,0,1,1,0,0,0,0,0,0,0,0,0,0,0,0],\n",
        "    [0,0,0,1,1,0,0,0,0,0,0,0,0,0,0,0,0,1,1,0,0,0,0,0],\n",
        "    [0,0,0,0,0,0,0,0,0,0,0,0,0,0,0,0,1,0,0,1,0,0,0,1],\n",
        "    [0,0,1,1,0,0,0,0,0,0,0,0,0,0,0,1,0,0,0,0,1,0,0,1],\n",
        "    [0,1,0,0,1,0,0,0,0,0,0,0,0,0,0,1,0,0,0,0,1,0,0,0],\n",
        "    [1,0,0,0,0,1,0,0,0,0,0,0,0,0,0,0,1,0,0,1,0,0,0,0],\n",
        "    [1,0,0,0,0,1,0,0,0,0,0,1,1,0,0,0,0,1,1,0,0,0,0,0],\n",
        "    [0,1,0,0,1,0,0,0,0,0,1,0,0,1,0,0,0,0,0,0,0,0,0,0],\n",
        "    [0,0,1,1,0,0,0,0,0,1,0,0,0,0,1,0,0,0,0,0,0,0,0,0],\n",
        "    [0,0,0,0,0,0,0,0,0,1,0,0,0,0,1,0,0,0,0,0,0,0,0,0],\n",
        "    [0,0,0,0,0,0,0,0,0,0,1,0,0,1,0,0,0,0,0,0,1,1,0,0],\n",
        "    [0,0,0,0,0,1,1,0,0,0,0,1,1,0,0,0,0,0,0,1,0,0,1,0],\n",
        "    [0,0,0,0,1,0,0,1,0,0,0,0,0,0,0,0,0,0,1,0,0,0,0,1],\n",
        "    [0,0,0,1,0,0,0,0,1,0,0,0,0,0,0,0,0,0,1,0,0,0,0,1],\n",
        "    [0,0,0,1,0,0,0,0,1,0,0,0,0,0,0,0,0,0,0,1,0,0,1,0],\n",
        "    [0,0,0,0,1,0,0,1,0,0,0,0,0,0,1,1,0,0,0,0,1,1,0,0],\n",
        "    [1,0,0,0,0,1,1,0,0,0,0,0,0,1,0,0,1,0,0,0,0,0,0,0],\n",
        "    [0,1,0,0,0,0,0,0,0,0,0,0,1,0,0,0,0,1,0,0,0,0,0,0],\n",
        "    [0,0,1,0,0,0,0,0,0,0,0,0,1,0,0,0,0,1,0,0,0,0,0,0]],\n",
        "                             dtype=torch.float32).unsqueeze(0)\n"
      ],
      "metadata": {
        "id": "XXRr5DrOfKQq"
      },
      "execution_count": 8,
      "outputs": []
    },
    {
      "cell_type": "markdown",
      "source": [
        "#### Train and Evaluate Model Performance On Larger Images"
      ],
      "metadata": {
        "id": "Fyh5BhW5jBWp"
      }
    },
    {
      "cell_type": "code",
      "source": [
        "# helper function to pass in different sizes bc can't stack\n",
        "class VariableSizeDataset(Dataset):\n",
        "    def __init__(self, images, labels):\n",
        "        self.images = images\n",
        "        self.labels = labels\n",
        "\n",
        "    def __len__(self):\n",
        "        return len(self.images)\n",
        "\n",
        "    def __getitem__(self, idx):\n",
        "        return self.images[idx], self.labels[idx]\n",
        "\n",
        "# the sample images\n",
        "test_images = [pattern_12x12, pattern_18x18, pattern_24x24]\n",
        "\n",
        "# the ground truth labels\n",
        "test_labels = [0, 0, 0]\n",
        "\n",
        "# dataset\n",
        "test_dataset = VariableSizeDataset(test_images, test_labels)\n",
        "\n",
        "# data loader\n",
        "# batch size 1 so each gets done\n",
        "test_dataloader = DataLoader(test_dataset, batch_size=1, shuffle=False)\n",
        "\n",
        "# check we are passing in diff sized images\n",
        "for batch_images, batch_labels in test_dataloader:\n",
        "    print(\"Batch Image Shape:\", batch_images[0].shape)\n",
        "    print(\"Batch Label:\", batch_labels)\n",
        "\n"
      ],
      "metadata": {
        "colab": {
          "base_uri": "https://localhost:8080/"
        },
        "id": "ACeGuAEPZidL",
        "outputId": "db08fdd7-27d5-4f28-80ed-2cca0c6c173a"
      },
      "execution_count": 9,
      "outputs": [
        {
          "output_type": "stream",
          "name": "stdout",
          "text": [
            "Batch Image Shape: torch.Size([1, 12, 12])\n",
            "Batch Label: tensor([0])\n",
            "Batch Image Shape: torch.Size([1, 18, 18])\n",
            "Batch Label: tensor([0])\n",
            "Batch Image Shape: torch.Size([1, 24, 24])\n",
            "Batch Label: tensor([0])\n"
          ]
        }
      ]
    },
    {
      "cell_type": "code",
      "source": [
        "# perform evaluation\n",
        "model.eval()\n",
        "with torch.no_grad():\n",
        "    for image, label in test_dataloader:\n",
        "        output = model(image)\n",
        "        prediction = torch.argmax(output, dim=1)\n",
        "        print(f\"Label: {label}, Prediction: {prediction}\")\n",
        "\n",
        "evaluate_model(model, test_dataloader)\n",
        "evaluate_confusion_matrix(model, test_dataloader)"
      ],
      "metadata": {
        "colab": {
          "base_uri": "https://localhost:8080/",
          "height": 524
        },
        "id": "1HL2zfgubDLd",
        "outputId": "04866840-8457-4366-a6e5-55244738c952"
      },
      "execution_count": 10,
      "outputs": [
        {
          "output_type": "stream",
          "name": "stdout",
          "text": [
            "Label: tensor([0]), Prediction: tensor([1])\n",
            "Label: tensor([0]), Prediction: tensor([0])\n",
            "Label: tensor([0]), Prediction: tensor([0])\n",
            "Accuracy: 66.67%\n"
          ]
        },
        {
          "output_type": "display_data",
          "data": {
            "text/plain": [
              "<Figure size 640x480 with 2 Axes>"
            ],
            "image/png": "[encoded data removed]"
          },
          "metadata": {}
        }
      ]
    },
    {
      "cell_type": "markdown",
      "source": [
        "# Testing Model Performance on Case 3 Data"
      ],
      "metadata": {
        "id": "v7QEMGM3fds_"
      }
    },
    {
      "cell_type": "markdown",
      "source": [
        "#### Data PreProcessing"
      ],
      "metadata": {
        "id": "dJwPipwvfhzU"
      }
    },
    {
      "cell_type": "code",
      "source": [
        "# Case 3\n",
        "padding_O1 = torch.tensor([\n",
        "    [0,0,0,0,0,0,0,0,0],\n",
        "    [0,0,0,0,0,0,0,0,0],\n",
        "    [0,0,0,0,0,0,0,0,0],\n",
        "    [0,0,1,1,0,0,0,0,0],\n",
        "    [0,1,0,0,1,0,0,0,0],\n",
        "    [1,0,0,0,0,1,0,0,0],\n",
        "    [1,0,0,0,0,1,0,0,0],\n",
        "    [0,1,0,0,1,0,0,0,0],\n",
        "    [0,0,1,1,0,0,0,0,0]],\n",
        "                dtype=torch.float32).unsqueeze(0)\n",
        "\n",
        "padding_X1 = torch.tensor([\n",
        "    [0,0,1,0,0,0,0,1],\n",
        "    [0,0,0,1,0,0,1,0],\n",
        "    [0,0,0,0,1,1,0,0],\n",
        "    [0,0,0,0,1,1,0,0],\n",
        "    [0,0,0,1,0,0,1,0],\n",
        "    [0,0,1,0,0,0,0,1],\n",
        "    [0,0,0,0,0,0,0,0],\n",
        "    [0,0,0,0,0,0,0,0],\n",
        "    [0,0,0,0,0,0,0,0]\n",
        "    ],\n",
        "                dtype=torch.float32).unsqueeze(0)\n",
        "\n",
        "padding_O2 = torch.tensor([\n",
        "    [0,0,0,0,0,0,0,0,0,0,0,0],\n",
        "    [0,0,0,0,0,0,0,0,0,0,0,0],\n",
        "    [0,0,0,0,0,0,0,0,0,0,0,0],\n",
        "    [0,0,0,0,0,0,0,0,0,0,0,0],\n",
        "    [0,0,0,0,0,0,0,0,0,0,0,0],\n",
        "    [0,0,0,0,0,0,0,0,0,0,0,0],\n",
        "    [0,0,1,1,0,0,0,0,0,0,0,0],\n",
        "    [0,1,0,0,1,0,0,0,0,0,0,0],\n",
        "    [1,0,0,0,0,1,0,0,0,0,0,0],\n",
        "    [1,0,0,0,0,1,0,0,0,0,0,0],\n",
        "    [0,1,0,0,1,0,0,0,0,0,0,0],\n",
        "    [0,0,1,1,0,0,0,0,0,0,0,0]],\n",
        "                dtype=torch.float32).unsqueeze(0)\n",
        "\n",
        "\n",
        "padding_X2 = torch.tensor([\n",
        "    [0,0,0,0,0,1,0,0,0,0,1],\n",
        "    [0,0,0,0,0,0,1,0,0,1,0],\n",
        "    [0,0,0,0,0,0,0,1,1,0,0],\n",
        "    [0,0,0,0,0,0,0,1,1,0,0],\n",
        "    [0,0,0,0,0,0,1,0,0,1,0],\n",
        "    [0,0,0,0,0,1,0,0,0,0,1],\n",
        "    [0,0,0,0,0,0,0,0,0,0,0],\n",
        "    [0,0,0,0,0,0,0,0,0,0,0],\n",
        "    [0,0,0,0,0,0,0,0,0,0,0],\n",
        "    [0,0,0,0,0,0,0,0,0,0,0],\n",
        "    [0,0,0,0,0,0,0,0,0,0,0],\n",
        "    [0,0,0,0,0,0,0,0,0,0,0]\n",
        "    ],\n",
        "                dtype=torch.float32).unsqueeze(0)\n",
        "\n",
        "padding_O3 = torch.tensor([\n",
        "    [0,0,0,1,1,0,0,0],\n",
        "    [0,0,0,1,1,0,0,0],\n",
        "    [0,0,1,0,0,1,0,0],\n",
        "    [1,1,0,0,0,0,1,1],\n",
        "    [1,1,0,0,0,0,1,1],\n",
        "    [0,0,0,1,1,0,0,0],\n",
        "    [0,0,0,1,1,0,0,0]\n",
        "    ],\n",
        "                dtype=torch.float32).unsqueeze(0)\n",
        "\n",
        ""
      ],
      "metadata": {
        "id": "dkdgCCRYfeG2"
      },
      "execution_count": 11,
      "outputs": []
    },
    {
      "cell_type": "markdown",
      "source": [
        "#### Train and Evaluate Model Performance On Larger Images"
      ],
      "metadata": {
        "id": "Sr2RIBFViIoN"
      }
    },
    {
      "cell_type": "code",
      "source": [
        "# the sample images\n",
        "test_images = [padding_O1, padding_X1, padding_O2, padding_X2, padding_O3]\n",
        "\n",
        "# the ground truth labels\n",
        "test_labels = [0, 1, 0, 1, 0]\n",
        "\n",
        "# dataset\n",
        "test_dataset = VariableSizeDataset(test_images, test_labels)\n",
        "\n",
        "# data loader\n",
        "# batch size 1 so each gets done\n",
        "test_dataloader = DataLoader(test_dataset, batch_size=1, shuffle=False)\n",
        "\n",
        "# check we are passing in diff sized images\n",
        "for batch_images, batch_labels in test_dataloader:\n",
        "    print(\"Batch Image Shape:\", batch_images[0].shape)\n",
        "    print(\"Batch Label:\", batch_labels)"
      ],
      "metadata": {
        "colab": {
          "base_uri": "https://localhost:8080/"
        },
        "id": "SA25hnNuh32F",
        "outputId": "be5b5928-cd2c-4837-8895-cb3c23dc1402"
      },
      "execution_count": 12,
      "outputs": [
        {
          "output_type": "stream",
          "name": "stdout",
          "text": [
            "Batch Image Shape: torch.Size([1, 9, 9])\n",
            "Batch Label: tensor([0])\n",
            "Batch Image Shape: torch.Size([1, 9, 8])\n",
            "Batch Label: tensor([1])\n",
            "Batch Image Shape: torch.Size([1, 12, 12])\n",
            "Batch Label: tensor([0])\n",
            "Batch Image Shape: torch.Size([1, 12, 11])\n",
            "Batch Label: tensor([1])\n",
            "Batch Image Shape: torch.Size([1, 7, 8])\n",
            "Batch Label: tensor([0])\n"
          ]
        }
      ]
    },
    {
      "cell_type": "code",
      "source": [
        "# perform evaluation\n",
        "model.eval()\n",
        "with torch.no_grad():\n",
        "    for image, label in test_dataloader:\n",
        "        output = model(image)\n",
        "        prediction = torch.argmax(output, dim=1)\n",
        "        print(f\"Label: {label}, Prediction: {prediction}\")\n",
        "\n",
        "evaluate_model(model, test_dataloader)\n",
        "evaluate_confusion_matrix(model, test_dataloader)"
      ],
      "metadata": {
        "colab": {
          "base_uri": "https://localhost:8080/",
          "height": 559
        },
        "id": "rypkSVo_iP1_",
        "outputId": "6a93b252-b72e-4fdd-84aa-44d9d81653f4"
      },
      "execution_count": 13,
      "outputs": [
        {
          "output_type": "stream",
          "name": "stdout",
          "text": [
            "Label: tensor([0]), Prediction: tensor([0])\n",
            "Label: tensor([1]), Prediction: tensor([1])\n",
            "Label: tensor([0]), Prediction: tensor([1])\n",
            "Label: tensor([1]), Prediction: tensor([1])\n",
            "Label: tensor([0]), Prediction: tensor([0])\n",
            "Accuracy: 80.00%\n"
          ]
        },
        {
          "output_type": "display_data",
          "data": {
            "text/plain": [
              "<Figure size 640x480 with 2 Axes>"
            ],
            "image/png": "[encoded data removed]"
          },
          "metadata": {}
        }
      ]
    }
  ]
}